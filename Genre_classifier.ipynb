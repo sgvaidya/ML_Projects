{
  "nbformat": 4,
  "nbformat_minor": 0,
  "metadata": {
    "colab": {
      "name": "Genre_classifier.ipynb",
      "provenance": [],
      "mount_file_id": "1eCf068Eov74-UB-EghumPikuhmMatt0J",
      "authorship_tag": "ABX9TyOyP7vABH/n4Xri2GOh3cJA",
      "include_colab_link": true
    },
    "kernelspec": {
      "name": "python3",
      "display_name": "Python 3"
    },
    "language_info": {
      "name": "python"
    }
  },
  "cells": [
    {
      "cell_type": "markdown",
      "metadata": {
        "id": "view-in-github",
        "colab_type": "text"
      },
      "source": [
        "<a href=\"https://colab.research.google.com/github/sgvaidya/ML_Projects/blob/main/Genre_classifier.ipynb\" target=\"_parent\"><img src=\"https://colab.research.google.com/assets/colab-badge.svg\" alt=\"Open In Colab\"/></a>"
      ]
    },
    {
      "cell_type": "code",
      "metadata": {
        "id": "mRSYGolQBVzV"
      },
      "source": [
        "from python_speech_features import mfcc\n",
        "import scipy.io.wavfile as wav\n",
        "import numpy as np\n",
        "from tempfile import TemporaryFile\n",
        "import os\n",
        "import pickle\n",
        "import random \n",
        "import operator\n",
        "import math\n",
        "import numpy as np"
      ],
      "execution_count": null,
      "outputs": []
    },
    {
      "cell_type": "code",
      "metadata": {
        "id": "dzT7FqYuBlFs"
      },
      "source": [
        "def getNeighbors(trainingSet, instance, k):\n",
        "    distances = []\n",
        "    for x in range (len(trainingSet)):\n",
        "        dist = distance(trainingSet[x], instance, k )+ distance(instance, trainingSet[x], k)\n",
        "        distances.append((trainingSet[x][2], dist))\n",
        "    distances.sort(key=operator.itemgetter(1))\n",
        "    neighbors = []\n",
        "    for x in range(k):\n",
        "        neighbors.append(distances[x][0])\n",
        "    return neighbors"
      ],
      "execution_count": null,
      "outputs": []
    },
    {
      "cell_type": "code",
      "metadata": {
        "id": "fX2g_EroBuda"
      },
      "source": [
        "\n",
        "def nearestClass(neighbors):\n",
        "    classVote = {}\n",
        "    for x in range(len(neighbors)):\n",
        "        response = neighbors[x]\n",
        "        if response in classVote:\n",
        "            classVote[response]+=1 \n",
        "        else:\n",
        "            classVote[response]=1\n",
        "    sorter = sorted(classVote.items(), key = operator.itemgetter(1), reverse=True)\n",
        "    return sorter[0][0]\n"
      ],
      "execution_count": null,
      "outputs": []
    },
    {
      "cell_type": "code",
      "metadata": {
        "id": "kXUSRYvUB4OV"
      },
      "source": [
        "def getAccuracy(testSet, predictions):\n",
        "    correct = 0 \n",
        "    for x in range (len(testSet)):\n",
        "        if testSet[x][-1]==predictions[x]:\n",
        "            correct+=1\n",
        "    return 1.0*correct/len(testSet)"
      ],
      "execution_count": null,
      "outputs": []
    },
    {
      "cell_type": "code",
      "metadata": {
        "colab": {
          "base_uri": "https://localhost:8080/",
          "height": 229
        },
        "id": "IK0u7p2aB647",
        "outputId": "9997fadf-8d9b-4368-8649-e62b46cb407d"
      },
      "source": [
        "directory = \"/content/drive/MyDrive/DS_ML_PRO/genres\"\n",
        "f= open(\"my.dat\" ,'wb')\n",
        "i=0\n",
        "for folder in os.listdir(directory):\n",
        "    i+=1\n",
        "    if i==11 :\n",
        "        break   \n",
        "    for file in os.listdir(directory+folder):  \n",
        "        (rate,sig) = wav.read(directory+folder+\"/\"+file)\n",
        "        mfcc_feat = mfcc(sig,rate ,winlen=0.020, appendEnergy = False)\n",
        "        covariance = np.cov(np.matrix.transpose(mfcc_feat))\n",
        "        mean_matrix = mfcc_feat.mean(0)\n",
        "        feature = (mean_matrix , covariance , i)\n",
        "        pickle.dump(feature , f)\n",
        "f.close()"
      ],
      "execution_count": null,
      "outputs": [
        {
          "output_type": "error",
          "ename": "FileNotFoundError",
          "evalue": "ignored",
          "traceback": [
            "\u001b[0;31m---------------------------------------------------------------------------\u001b[0m",
            "\u001b[0;31mFileNotFoundError\u001b[0m                         Traceback (most recent call last)",
            "\u001b[0;32m<ipython-input-10-4fa1f1a9cf3f>\u001b[0m in \u001b[0;36m<module>\u001b[0;34m()\u001b[0m\n\u001b[1;32m      6\u001b[0m     \u001b[0;32mif\u001b[0m \u001b[0mi\u001b[0m\u001b[0;34m==\u001b[0m\u001b[0;36m11\u001b[0m \u001b[0;34m:\u001b[0m\u001b[0;34m\u001b[0m\u001b[0;34m\u001b[0m\u001b[0m\n\u001b[1;32m      7\u001b[0m         \u001b[0;32mbreak\u001b[0m\u001b[0;34m\u001b[0m\u001b[0;34m\u001b[0m\u001b[0m\n\u001b[0;32m----> 8\u001b[0;31m     \u001b[0;32mfor\u001b[0m \u001b[0mfile\u001b[0m \u001b[0;32min\u001b[0m \u001b[0mos\u001b[0m\u001b[0;34m.\u001b[0m\u001b[0mlistdir\u001b[0m\u001b[0;34m(\u001b[0m\u001b[0mdirectory\u001b[0m\u001b[0;34m+\u001b[0m\u001b[0mfolder\u001b[0m\u001b[0;34m)\u001b[0m\u001b[0;34m:\u001b[0m\u001b[0;34m\u001b[0m\u001b[0;34m\u001b[0m\u001b[0m\n\u001b[0m\u001b[1;32m      9\u001b[0m         \u001b[0;34m(\u001b[0m\u001b[0mrate\u001b[0m\u001b[0;34m,\u001b[0m\u001b[0msig\u001b[0m\u001b[0;34m)\u001b[0m \u001b[0;34m=\u001b[0m \u001b[0mwav\u001b[0m\u001b[0;34m.\u001b[0m\u001b[0mread\u001b[0m\u001b[0;34m(\u001b[0m\u001b[0mdirectory\u001b[0m\u001b[0;34m+\u001b[0m\u001b[0mfolder\u001b[0m\u001b[0;34m+\u001b[0m\u001b[0;34m\"/\"\u001b[0m\u001b[0;34m+\u001b[0m\u001b[0mfile\u001b[0m\u001b[0;34m)\u001b[0m\u001b[0;34m\u001b[0m\u001b[0;34m\u001b[0m\u001b[0m\n\u001b[1;32m     10\u001b[0m         \u001b[0mmfcc_feat\u001b[0m \u001b[0;34m=\u001b[0m \u001b[0mmfcc\u001b[0m\u001b[0;34m(\u001b[0m\u001b[0msig\u001b[0m\u001b[0;34m,\u001b[0m\u001b[0mrate\u001b[0m \u001b[0;34m,\u001b[0m\u001b[0mwinlen\u001b[0m\u001b[0;34m=\u001b[0m\u001b[0;36m0.020\u001b[0m\u001b[0;34m,\u001b[0m \u001b[0mappendEnergy\u001b[0m \u001b[0;34m=\u001b[0m \u001b[0;32mFalse\u001b[0m\u001b[0;34m)\u001b[0m\u001b[0;34m\u001b[0m\u001b[0;34m\u001b[0m\u001b[0m\n",
            "\u001b[0;31mFileNotFoundError\u001b[0m: [Errno 2] No such file or directory: '/content/drive/MyDrive/DS_ML_PRO/genresbextract_single.mf'"
          ]
        }
      ]
    },
    {
      "cell_type": "code",
      "metadata": {
        "id": "Ht-2wZn9CSQ8"
      },
      "source": [
        ""
      ],
      "execution_count": null,
      "outputs": []
    }
  ]
}