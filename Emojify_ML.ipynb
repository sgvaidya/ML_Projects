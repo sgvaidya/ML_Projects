{
  "nbformat": 4,
  "nbformat_minor": 0,
  "metadata": {
    "colab": {
      "name": "Emojify_ML.ipynb",
      "provenance": [],
      "collapsed_sections": [],
      "mount_file_id": "1UBiKAQAAmLUlKftP8odhJBFahuqWkcQv",
      "authorship_tag": "ABX9TyN1Sj/VshaP9YODPhY3D/ql",
      "include_colab_link": true
    },
    "kernelspec": {
      "name": "python3",
      "display_name": "Python 3"
    },
    "language_info": {
      "name": "python"
    }
  },
  "cells": [
    {
      "cell_type": "markdown",
      "metadata": {
        "id": "view-in-github",
        "colab_type": "text"
      },
      "source": [
        "<a href=\"https://colab.research.google.com/github/sgvaidya/ML_Projects/blob/main/Emojify_ML.ipynb\" target=\"_parent\"><img src=\"https://colab.research.google.com/assets/colab-badge.svg\" alt=\"Open In Colab\"/></a>"
      ]
    },
    {
      "cell_type": "code",
      "metadata": {
        "id": "nmpT-IoTYNcG"
      },
      "source": [
        "import numpy as np\n",
        "import cv2\n",
        "from tensorflow.keras.models import Sequential \n",
        "from keras.layers import Dense, Dropout, Flatten\n",
        "from keras.layers import Conv2D\n",
        "from tensorflow.keras.optimizers import Adam\n",
        "from keras.layers import MaxPooling2D\n",
        "from keras.preprocessing.image import ImageDataGenerator"
      ],
      "execution_count": null,
      "outputs": []
    },
    {
      "cell_type": "code",
      "metadata": {
        "id": "KJFAWeaLYoUs",
        "colab": {
          "base_uri": "https://localhost:8080/"
        },
        "outputId": "271fbaf5-4b02-46f4-eb3b-1db2e059f0af"
      },
      "source": [
        "train_dir = '/content/drive/MyDrive/dataset/train'\n",
        "val_dir = '/content/drive/MyDrive/dataset/test'\n",
        "train_datagen = ImageDataGenerator(rescale=1./255)\n",
        "val_datagen = ImageDataGenerator(rescale=1./255)\n",
        "train_generator = train_datagen.flow_from_directory(\n",
        "        train_dir,\n",
        "        target_size=(48,48),\n",
        "        batch_size=64,\n",
        "        color_mode=\"grayscale\",\n",
        "        class_mode='categorical')\n",
        "validation_generator = val_datagen.flow_from_directory(\n",
        "        val_dir,\n",
        "        target_size=(48,48),\n",
        "        batch_size=64,\n",
        "        color_mode=\"grayscale\",\n",
        "        class_mode='categorical')"
      ],
      "execution_count": null,
      "outputs": [
        {
          "output_type": "stream",
          "name": "stdout",
          "text": [
            "Found 28729 images belonging to 7 classes.\n",
            "Found 7178 images belonging to 7 classes.\n"
          ]
        }
      ]
    },
    {
      "cell_type": "code",
      "metadata": {
        "colab": {
          "base_uri": "https://localhost:8080/"
        },
        "id": "4KdlPREeCzX6",
        "outputId": "3f71a50e-440c-4a16-f562-accbfad13436"
      },
      "source": [
        "from google.colab import drive\n",
        "drive.mount('/content/drive')"
      ],
      "execution_count": null,
      "outputs": [
        {
          "output_type": "stream",
          "name": "stdout",
          "text": [
            "Drive already mounted at /content/drive; to attempt to forcibly remount, call drive.mount(\"/content/drive\", force_remount=True).\n"
          ]
        }
      ]
    },
    {
      "cell_type": "code",
      "metadata": {
        "id": "gwFipIWN5XEY"
      },
      "source": [
        "emotion_model = Sequential()\n",
        "\n",
        "emotion_model.add(Conv2D(32, kernel_size=(3, 3), activation='relu', input_shape=(48,48,1)))\n",
        "emotion_model.add(Conv2D(64, kernel_size=(3, 3), activation='relu'))\n",
        "emotion_model.add(MaxPooling2D(pool_size=(2, 2)))\n",
        "emotion_model.add(Dropout(0.25))\n",
        "\n",
        "emotion_model.add(Conv2D(128, kernel_size=(3, 3), activation='relu'))\n",
        "emotion_model.add(MaxPooling2D(pool_size=(2, 2)))\n",
        "emotion_model.add(Conv2D(128, kernel_size=(3, 3), activation='relu'))\n",
        "emotion_model.add(MaxPooling2D(pool_size=(2, 2)))\n",
        "emotion_model.add(Dropout(0.25))\n",
        "\n",
        "emotion_model.add(Flatten())\n",
        "emotion_model.add(Dense(1024, activation='relu'))\n",
        "emotion_model.add(Dropout(0.5))\n",
        "emotion_model.add(Dense(7, activation='softmax'))"
      ],
      "execution_count": null,
      "outputs": []
    },
    {
      "cell_type": "code",
      "metadata": {
        "id": "naeDa2We7X3u",
        "colab": {
          "base_uri": "https://localhost:8080/"
        },
        "outputId": "bb0f77d0-9e62-429d-8a8f-2c31fc547040"
      },
      "source": [
        "emotion_model.compile(loss='categorical_crossentropy',optimizer=Adam(lr=0.0001, decay=1e-6),metrics=['accuracy'])\n",
        "emotion_model_info = emotion_model.fit_generator(\n",
        "        train_generator,\n",
        "        steps_per_epoch=28709 // 64,\n",
        "        epochs=50,\n",
        "        validation_data=validation_generator,\n",
        "        validation_steps=7178 // 64)"
      ],
      "execution_count": null,
      "outputs": [
        {
          "output_type": "stream",
          "name": "stderr",
          "text": [
            "/usr/local/lib/python3.7/dist-packages/keras/optimizer_v2/optimizer_v2.py:356: UserWarning: The `lr` argument is deprecated, use `learning_rate` instead.\n",
            "  \"The `lr` argument is deprecated, use `learning_rate` instead.\")\n",
            "/usr/local/lib/python3.7/dist-packages/keras/engine/training.py:1972: UserWarning: `Model.fit_generator` is deprecated and will be removed in a future version. Please use `Model.fit`, which supports generators.\n",
            "  warnings.warn('`Model.fit_generator` is deprecated and '\n"
          ]
        },
        {
          "output_type": "stream",
          "name": "stdout",
          "text": [
            "Epoch 1/50\n",
            "448/448 [==============================] - 5994s 13s/step - loss: 1.8061 - accuracy: 0.2583 - val_loss: 1.7272 - val_accuracy: 0.3207\n",
            "Epoch 2/50\n",
            "448/448 [==============================] - 387s 865ms/step - loss: 1.6443 - accuracy: 0.3579 - val_loss: 1.5653 - val_accuracy: 0.4068\n",
            "Epoch 3/50\n",
            "448/448 [==============================] - 386s 862ms/step - loss: 1.5451 - accuracy: 0.4046 - val_loss: 1.4787 - val_accuracy: 0.4368\n",
            "Epoch 4/50\n",
            "448/448 [==============================] - 386s 861ms/step - loss: 1.4670 - accuracy: 0.4381 - val_loss: 1.4217 - val_accuracy: 0.4597\n",
            "Epoch 5/50\n",
            "448/448 [==============================] - 385s 859ms/step - loss: 1.4001 - accuracy: 0.4662 - val_loss: 1.3384 - val_accuracy: 0.4932\n",
            "Epoch 6/50\n",
            "448/448 [==============================] - 385s 858ms/step - loss: 1.3462 - accuracy: 0.4874 - val_loss: 1.3003 - val_accuracy: 0.5056\n",
            "Epoch 7/50\n",
            "448/448 [==============================] - 386s 861ms/step - loss: 1.3025 - accuracy: 0.5061 - val_loss: 1.2728 - val_accuracy: 0.5144\n",
            "Epoch 8/50\n",
            "448/448 [==============================] - 383s 856ms/step - loss: 1.2660 - accuracy: 0.5216 - val_loss: 1.2444 - val_accuracy: 0.5265\n",
            "Epoch 9/50\n",
            "448/448 [==============================] - 385s 860ms/step - loss: 1.2348 - accuracy: 0.5326 - val_loss: 1.2289 - val_accuracy: 0.5343\n",
            "Epoch 10/50\n",
            "448/448 [==============================] - 385s 860ms/step - loss: 1.2054 - accuracy: 0.5444 - val_loss: 1.2211 - val_accuracy: 0.5345\n",
            "Epoch 11/50\n",
            "448/448 [==============================] - 386s 861ms/step - loss: 1.1836 - accuracy: 0.5549 - val_loss: 1.1903 - val_accuracy: 0.5460\n",
            "Epoch 12/50\n",
            "448/448 [==============================] - 385s 860ms/step - loss: 1.1597 - accuracy: 0.5636 - val_loss: 1.1727 - val_accuracy: 0.5522\n",
            "Epoch 13/50\n",
            "448/448 [==============================] - 385s 859ms/step - loss: 1.1315 - accuracy: 0.5745 - val_loss: 1.1603 - val_accuracy: 0.5579\n",
            "Epoch 14/50\n",
            "448/448 [==============================] - 385s 859ms/step - loss: 1.1163 - accuracy: 0.5828 - val_loss: 1.1608 - val_accuracy: 0.5537\n",
            "Epoch 15/50\n",
            "448/448 [==============================] - 385s 859ms/step - loss: 1.0913 - accuracy: 0.5927 - val_loss: 1.1374 - val_accuracy: 0.5679\n",
            "Epoch 16/50\n",
            "448/448 [==============================] - 386s 861ms/step - loss: 1.0649 - accuracy: 0.6009 - val_loss: 1.1236 - val_accuracy: 0.5728\n",
            "Epoch 17/50\n",
            "448/448 [==============================] - 387s 863ms/step - loss: 1.0427 - accuracy: 0.6114 - val_loss: 1.1145 - val_accuracy: 0.5688\n",
            "Epoch 18/50\n",
            "448/448 [==============================] - 385s 860ms/step - loss: 1.0273 - accuracy: 0.6160 - val_loss: 1.1105 - val_accuracy: 0.5781\n",
            "Epoch 19/50\n",
            "448/448 [==============================] - 384s 856ms/step - loss: 1.0017 - accuracy: 0.6305 - val_loss: 1.1030 - val_accuracy: 0.5809\n",
            "Epoch 20/50\n",
            "448/448 [==============================] - 385s 860ms/step - loss: 0.9799 - accuracy: 0.6390 - val_loss: 1.1039 - val_accuracy: 0.5844\n",
            "Epoch 21/50\n",
            "448/448 [==============================] - 385s 859ms/step - loss: 0.9620 - accuracy: 0.6444 - val_loss: 1.1046 - val_accuracy: 0.5820\n",
            "Epoch 22/50\n",
            "448/448 [==============================] - 384s 856ms/step - loss: 0.9391 - accuracy: 0.6509 - val_loss: 1.0872 - val_accuracy: 0.5929\n",
            "Epoch 23/50\n",
            "448/448 [==============================] - 384s 857ms/step - loss: 0.9166 - accuracy: 0.6609 - val_loss: 1.0861 - val_accuracy: 0.5919\n",
            "Epoch 24/50\n",
            "448/448 [==============================] - 384s 857ms/step - loss: 0.8963 - accuracy: 0.6686 - val_loss: 1.0781 - val_accuracy: 0.5946\n",
            "Epoch 25/50\n",
            "448/448 [==============================] - 385s 860ms/step - loss: 0.8847 - accuracy: 0.6755 - val_loss: 1.0748 - val_accuracy: 0.5956\n",
            "Epoch 26/50\n",
            "448/448 [==============================] - 386s 862ms/step - loss: 0.8590 - accuracy: 0.6857 - val_loss: 1.0941 - val_accuracy: 0.5921\n",
            "Epoch 27/50\n",
            "448/448 [==============================] - 386s 862ms/step - loss: 0.8331 - accuracy: 0.6935 - val_loss: 1.0746 - val_accuracy: 0.5999\n",
            "Epoch 28/50\n",
            "448/448 [==============================] - 385s 860ms/step - loss: 0.8137 - accuracy: 0.7001 - val_loss: 1.0716 - val_accuracy: 0.6017\n",
            "Epoch 29/50\n",
            "448/448 [==============================] - 387s 863ms/step - loss: 0.7938 - accuracy: 0.7088 - val_loss: 1.0728 - val_accuracy: 0.6069\n",
            "Epoch 30/50\n",
            "448/448 [==============================] - 386s 862ms/step - loss: 0.7683 - accuracy: 0.7215 - val_loss: 1.0687 - val_accuracy: 0.6066\n",
            "Epoch 31/50\n",
            "448/448 [==============================] - 386s 861ms/step - loss: 0.7471 - accuracy: 0.7260 - val_loss: 1.0756 - val_accuracy: 0.6056\n",
            "Epoch 32/50\n",
            "448/448 [==============================] - 386s 862ms/step - loss: 0.7326 - accuracy: 0.7355 - val_loss: 1.0842 - val_accuracy: 0.6073\n",
            "Epoch 33/50\n",
            "448/448 [==============================] - 386s 862ms/step - loss: 0.7050 - accuracy: 0.7422 - val_loss: 1.0756 - val_accuracy: 0.6127\n",
            "Epoch 34/50\n",
            "448/448 [==============================] - 385s 860ms/step - loss: 0.6921 - accuracy: 0.7466 - val_loss: 1.0809 - val_accuracy: 0.6062\n",
            "Epoch 35/50\n",
            "448/448 [==============================] - 387s 863ms/step - loss: 0.6706 - accuracy: 0.7549 - val_loss: 1.0846 - val_accuracy: 0.6099\n",
            "Epoch 36/50\n",
            "448/448 [==============================] - 386s 861ms/step - loss: 0.6467 - accuracy: 0.7663 - val_loss: 1.0994 - val_accuracy: 0.6137\n",
            "Epoch 37/50\n",
            "448/448 [==============================] - 387s 864ms/step - loss: 0.6305 - accuracy: 0.7689 - val_loss: 1.0998 - val_accuracy: 0.6073\n",
            "Epoch 38/50\n",
            "448/448 [==============================] - 386s 861ms/step - loss: 0.6052 - accuracy: 0.7778 - val_loss: 1.1091 - val_accuracy: 0.6106\n",
            "Epoch 39/50\n",
            "448/448 [==============================] - 386s 861ms/step - loss: 0.5914 - accuracy: 0.7869 - val_loss: 1.0952 - val_accuracy: 0.6155\n",
            "Epoch 40/50\n",
            "448/448 [==============================] - 387s 864ms/step - loss: 0.5746 - accuracy: 0.7912 - val_loss: 1.1209 - val_accuracy: 0.6138\n",
            "Epoch 41/50\n",
            "448/448 [==============================] - 388s 866ms/step - loss: 0.5561 - accuracy: 0.7973 - val_loss: 1.1146 - val_accuracy: 0.6141\n",
            "Epoch 42/50\n",
            "448/448 [==============================] - 388s 867ms/step - loss: 0.5496 - accuracy: 0.8007 - val_loss: 1.1124 - val_accuracy: 0.6170\n",
            "Epoch 43/50\n",
            "448/448 [==============================] - 388s 866ms/step - loss: 0.5288 - accuracy: 0.8076 - val_loss: 1.1160 - val_accuracy: 0.6170\n",
            "Epoch 44/50\n",
            "448/448 [==============================] - 389s 868ms/step - loss: 0.5063 - accuracy: 0.8167 - val_loss: 1.1484 - val_accuracy: 0.6138\n",
            "Epoch 45/50\n",
            "448/448 [==============================] - 389s 869ms/step - loss: 0.4895 - accuracy: 0.8223 - val_loss: 1.1471 - val_accuracy: 0.6162\n",
            "Epoch 46/50\n",
            "448/448 [==============================] - 389s 869ms/step - loss: 0.4752 - accuracy: 0.8298 - val_loss: 1.1523 - val_accuracy: 0.6191\n",
            "Epoch 47/50\n",
            "448/448 [==============================] - 388s 866ms/step - loss: 0.4611 - accuracy: 0.8331 - val_loss: 1.1639 - val_accuracy: 0.6175\n",
            "Epoch 48/50\n",
            "448/448 [==============================] - 388s 866ms/step - loss: 0.4466 - accuracy: 0.8389 - val_loss: 1.1666 - val_accuracy: 0.6157\n",
            "Epoch 49/50\n",
            "448/448 [==============================] - 389s 869ms/step - loss: 0.4336 - accuracy: 0.8424 - val_loss: 1.1778 - val_accuracy: 0.6180\n",
            "Epoch 50/50\n",
            "448/448 [==============================] - 385s 859ms/step - loss: 0.4203 - accuracy: 0.8468 - val_loss: 1.1874 - val_accuracy: 0.6191\n"
          ]
        }
      ]
    },
    {
      "cell_type": "code",
      "metadata": {
        "id": "PVKCLllnD5cH"
      },
      "source": [
        "emotion_model.save_weights('model.h5')"
      ],
      "execution_count": null,
      "outputs": []
    },
    {
      "cell_type": "code",
      "metadata": {
        "id": "4cHLGIjkyH_R"
      },
      "source": [
        "cv2.ocl.setUseOpenCL(False)\n",
        "\n",
        "emotion_dict = {0: \"Angry\", 1: \"Disgusted\", 2: \"Fearful\", 3: \"Happy\", 4: \"Neutral\", 5: \"Sad\", 6: \"Surprised\"}\n",
        "\n",
        "cap = cv2.VideoCapture(0)\n",
        "while True:\n",
        "    ret, frame = cap.read()\n",
        "    if not ret:\n",
        "        break\n",
        "    bounding_box = cv2.CascadeClassifier('/home/shivam/.local/lib/python3.6/site-packages/cv2/data/haarcascade_frontalface_default.xml')\n",
        "    gray_frame = cv2.cvtColor(frame, cv2.COLOR_BGR2gray_frame)\n",
        "    num_faces = bounding_box.detectMultiScale(gray_frame,scaleFactor=1.3, minNeighbors=5)\n",
        "\n",
        "    for (x, y, w, h) in num_faces:\n",
        "        cv2.rectangle(frame, (x, y-50), (x+w, y+h+10), (255, 0, 0), 2)\n",
        "        roi_gray_frame = gray_frame[y:y + h, x:x + w]\n",
        "        cropped_img = np.expand_dims(np.expand_dims(cv2.resize(roi_gray_frame, (48, 48)), -1), 0)\n",
        "        emotion_prediction = emotion_model.predict(cropped_img)\n",
        "        maxindex = int(np.argmax(emotion_prediction))\n",
        "        cv2.putText(frame, emotion_dict[maxindex], (x+20, y-60), cv2.FONT_HERSHEY_SIMPLEX, 1, (255, 255, 255), 2, cv2.LINE_AA)\n",
        "\n",
        "    cv2.imshow('Video', cv2.resize(frame,(1200,860),interpolation = cv2.INTER_CUBIC))\n",
        "    if cv2.waitKey(1) & 0xFF == ord('q'):\n",
        "      cap.release()\n",
        "      cv2.destroyAllWindows()\n",
        "    break"
      ],
      "execution_count": null,
      "outputs": []
    },
    {
      "cell_type": "code",
      "metadata": {
        "colab": {
          "base_uri": "https://localhost:8080/",
          "height": 346
        },
        "id": "YwZhxpRvyTJC",
        "outputId": "8d7d4741-103c-499a-b6c5-ba02bbbc1d53"
      },
      "source": [
        "import tkinter as tk\n",
        "from tkinter import *\n",
        "import cv2\n",
        "from PIL import Image, ImageTk\n",
        "import os\n",
        "import numpy as np\n",
        "import cv2\n",
        "from keras.models import Sequential\n",
        "from keras.layers import Dense, Dropout, Flatten\n",
        "from keras.layers import Conv2D\n",
        "from tensorflow.keras.optimizers import Adam\n",
        "from keras.layers import MaxPooling2D\n",
        "from keras.preprocessing.image import ImageDataGenerator\n",
        "\n",
        "emotion_model = Sequential()\n",
        "\n",
        "emotion_model.add(Conv2D(32, kernel_size=(3, 3), activation='relu', input_shape=(48,48,1)))\n",
        "emotion_model.add(Conv2D(64, kernel_size=(3, 3), activation='relu'))\n",
        "emotion_model.add(MaxPooling2D(pool_size=(2, 2)))\n",
        "emotion_model.add(Dropout(0.25))\n",
        "\n",
        "emotion_model.add(Conv2D(128, kernel_size=(3, 3), activation='relu'))\n",
        "emotion_model.add(MaxPooling2D(pool_size=(2, 2)))\n",
        "emotion_model.add(Conv2D(128, kernel_size=(3, 3), activation='relu'))\n",
        "emotion_model.add(MaxPooling2D(pool_size=(2, 2)))\n",
        "emotion_model.add(Dropout(0.25))\n",
        "\n",
        "emotion_model.add(Flatten())\n",
        "emotion_model.add(Dense(1024, activation='relu'))\n",
        "emotion_model.add(Dropout(0.5))\n",
        "emotion_model.add(Dense(7, activation='softmax'))\n",
        "emotion_model.load_weights('model.h5')\n",
        "\n",
        "cv2.ocl.setUseOpenCL(False)\n",
        "\n",
        "emotion_dict = {0: \"   Angry   \", 1: \"Disgusted\", 2: \"  Fearful  \", 3: \"   Happy   \", 4: \"  Neutral  \", 5: \"    Sad    \", 6: \"Surprised\"}\n",
        "\n",
        "\n",
        "emoji_dist={0:\"/content/drive/MyDrive/Emojis/angry.jpg\",2:\"/content/drive/MyDrive/Emojis/disgusted.png\",2:\"/content/drive/MyDrive/Emojis/fearful.jpg\",3:\"/content/drive/MyDrive/Emojis/Happy.jpg\",4:\"/content/drive/MyDrive/Emojis/Neutral.jpg\",5:\"/content/drive/MyDrive/Emojis/Sad.jpg\",6:\"/content/drive/MyDrive/Emojis/surprised.jpg\"}\n",
        "\n",
        "global last_frame1                                    \n",
        "last_frame1 = np.zeros((480, 640, 3), dtype=np.uint8)\n",
        "global cap1\n",
        "show_text=[0]\n",
        "def show_vid():      \n",
        "    cap1 = cv2.VideoCapture(0)                                 \n",
        "    if not cap1.isOpened():                             \n",
        "        print(\"cant open the camera1\")\n",
        "    flag1, frame1 = cap1.read()\n",
        "    frame1 = cv2.resize(frame1,(600,500))\n",
        "\n",
        "    bounding_box = cv2.CascadeClassifier('/home/shivam/.local/lib/python3.6/site-packages/cv2/data/haarcascade_frontalface_default.xml')\n",
        "    gray_frame = cv2.cvtColor(frame1, cv2.COLOR_BGR2GRAY)\n",
        "    num_faces = bounding_box.detectMultiScale(gray_frame,scaleFactor=1.3, minNeighbors=5)\n",
        "\n",
        "    for (x, y, w, h) in num_faces:\n",
        "        cv2.rectangle(frame1, (x, y-50), (x+w, y+h+10), (255, 0, 0), 2)\n",
        "        roi_gray_frame = gray_frame[y:y + h, x:x + w]\n",
        "        cropped_img = np.expand_dims(np.expand_dims(cv2.resize(roi_gray_frame, (48, 48)), -1), 0)\n",
        "        prediction = emotion_model.predict(cropped_img)\n",
        "        \n",
        "        maxindex = int(np.argmax(prediction))\n",
        "        cv2.putText(frame1, emotion_dict[maxindex], (x+20, y-60), cv2.FONT_HERSHEY_SIMPLEX, 1, (255, 255, 255), 2, cv2.LINE_AA)\n",
        "        show_text[0]=maxindex\n",
        "    if flag1 is None:\n",
        "        print (\"Major error!\")\n",
        "    elif flag1:\n",
        "        global last_frame1\n",
        "        last_frame1 = frame1.copy()\n",
        "        pic = cv2.cvtColor(last_frame1, cv2.COLOR_BGR2RGB)     \n",
        "        img = Image.fromarray(pic)\n",
        "        imgtk = ImageTk.PhotoImage(image=img)\n",
        "        lmain.imgtk = imgtk\n",
        "        lmain.configure(image=imgtk)\n",
        "        lmain.after(10, show_vid)\n",
        "    if cv2.waitKey(1) & 0xFF == ord('q'):\n",
        "        exit()\n",
        "\n",
        "\n",
        "def show_vid2():\n",
        "    frame2=cv2.imread(emoji_dist[show_text[0]])\n",
        "    pic2=cv2.cvtColor(frame2,cv2.COLOR_BGR2RGB)\n",
        "    img2=Image.fromarray(frame2)\n",
        "    imgtk2=ImageTk.PhotoImage(image=img2)\n",
        "    lmain2.imgtk2=imgtk2\n",
        "    lmain3.configure(text=emotion_dict[show_text[0]],font=('arial',45,'bold'))\n",
        "    \n",
        "    lmain2.configure(image=imgtk2)\n",
        "    lmain2.after(10, show_vid2)\n",
        "\n",
        "if __name__ == '__main__':\n",
        "    root=tk.Tk()   \n",
        "  \n",
        "   \n",
        "    \n",
        "   \n",
        "    heading2=Label(root,text=\"Photo to Emoji\",pady=20, font=('arial',45,'bold'),bg='black',fg='#CDCDCD')                                 \n",
        "    \n",
        "    heading2.pack()\n",
        "    lmain = tk.Label(master=root,padx=50,bd=10)\n",
        "    lmain2 = tk.Label(master=root,bd=10)\n",
        "\n",
        "    lmain3=tk.Label(master=root,bd=10,fg=\"#CDCDCD\",bg='black')\n",
        "    lmain.pack(side=LEFT)\n",
        "    lmain.place(x=50,y=250)\n",
        "    lmain3.pack()\n",
        "    lmain3.place(x=960,y=250)\n",
        "    lmain2.pack(side=RIGHT)\n",
        "    lmain2.place(x=900,y=350)\n",
        "    \n",
        "\n",
        "\n",
        "    root.title(\"Photo To Emoji\")            \n",
        "    root.geometry(\"1400x900+100+10\") \n",
        "    root['bg']='black'\n",
        "    exitbutton = Button(root, text='Quit',fg=\"red\",command=root.destroy,font=('arial',25,'bold')).pack(side = BOTTOM)\n",
        "    show_vid()\n",
        "    show_vid2()\n",
        "    root.mainloop()"
      ],
      "execution_count": null,
      "outputs": [
        {
          "output_type": "error",
          "ename": "TclError",
          "evalue": "ignored",
          "traceback": [
            "\u001b[0;31m---------------------------------------------------------------------------\u001b[0m",
            "\u001b[0;31mTclError\u001b[0m                                  Traceback (most recent call last)",
            "\u001b[0;32m<ipython-input-6-4d16ed959b32>\u001b[0m in \u001b[0;36m<module>\u001b[0;34m()\u001b[0m\n\u001b[1;32m     90\u001b[0m \u001b[0;34m\u001b[0m\u001b[0m\n\u001b[1;32m     91\u001b[0m \u001b[0;32mif\u001b[0m \u001b[0m__name__\u001b[0m \u001b[0;34m==\u001b[0m \u001b[0;34m'__main__'\u001b[0m\u001b[0;34m:\u001b[0m\u001b[0;34m\u001b[0m\u001b[0;34m\u001b[0m\u001b[0m\n\u001b[0;32m---> 92\u001b[0;31m     \u001b[0mroot\u001b[0m\u001b[0;34m=\u001b[0m\u001b[0mtk\u001b[0m\u001b[0;34m.\u001b[0m\u001b[0mTk\u001b[0m\u001b[0;34m(\u001b[0m\u001b[0;34m)\u001b[0m\u001b[0;34m\u001b[0m\u001b[0;34m\u001b[0m\u001b[0m\n\u001b[0m\u001b[1;32m     93\u001b[0m \u001b[0;34m\u001b[0m\u001b[0m\n\u001b[1;32m     94\u001b[0m \u001b[0;34m\u001b[0m\u001b[0m\n",
            "\u001b[0;32m/usr/lib/python3.7/tkinter/__init__.py\u001b[0m in \u001b[0;36m__init__\u001b[0;34m(self, screenName, baseName, className, useTk, sync, use)\u001b[0m\n\u001b[1;32m   2021\u001b[0m                 \u001b[0mbaseName\u001b[0m \u001b[0;34m=\u001b[0m \u001b[0mbaseName\u001b[0m \u001b[0;34m+\u001b[0m \u001b[0mext\u001b[0m\u001b[0;34m\u001b[0m\u001b[0;34m\u001b[0m\u001b[0m\n\u001b[1;32m   2022\u001b[0m         \u001b[0minteractive\u001b[0m \u001b[0;34m=\u001b[0m \u001b[0;36m0\u001b[0m\u001b[0;34m\u001b[0m\u001b[0;34m\u001b[0m\u001b[0m\n\u001b[0;32m-> 2023\u001b[0;31m         \u001b[0mself\u001b[0m\u001b[0;34m.\u001b[0m\u001b[0mtk\u001b[0m \u001b[0;34m=\u001b[0m \u001b[0m_tkinter\u001b[0m\u001b[0;34m.\u001b[0m\u001b[0mcreate\u001b[0m\u001b[0;34m(\u001b[0m\u001b[0mscreenName\u001b[0m\u001b[0;34m,\u001b[0m \u001b[0mbaseName\u001b[0m\u001b[0;34m,\u001b[0m \u001b[0mclassName\u001b[0m\u001b[0;34m,\u001b[0m \u001b[0minteractive\u001b[0m\u001b[0;34m,\u001b[0m \u001b[0mwantobjects\u001b[0m\u001b[0;34m,\u001b[0m \u001b[0museTk\u001b[0m\u001b[0;34m,\u001b[0m \u001b[0msync\u001b[0m\u001b[0;34m,\u001b[0m \u001b[0muse\u001b[0m\u001b[0;34m)\u001b[0m\u001b[0;34m\u001b[0m\u001b[0;34m\u001b[0m\u001b[0m\n\u001b[0m\u001b[1;32m   2024\u001b[0m         \u001b[0;32mif\u001b[0m \u001b[0museTk\u001b[0m\u001b[0;34m:\u001b[0m\u001b[0;34m\u001b[0m\u001b[0;34m\u001b[0m\u001b[0m\n\u001b[1;32m   2025\u001b[0m             \u001b[0mself\u001b[0m\u001b[0;34m.\u001b[0m\u001b[0m_loadtk\u001b[0m\u001b[0;34m(\u001b[0m\u001b[0;34m)\u001b[0m\u001b[0;34m\u001b[0m\u001b[0;34m\u001b[0m\u001b[0m\n",
            "\u001b[0;31mTclError\u001b[0m: no display name and no $DISPLAY environment variable"
          ]
        }
      ]
    },
    {
      "cell_type": "code",
      "metadata": {
        "id": "QlPS3HAj52f9"
      },
      "source": [
        "from IPython.display import display, Javascript\n",
        "from google.colab.output import eval_js\n",
        "from base64 import b64decode\n",
        "\n",
        "def take_photo(filename='photo.jpg', quality=0.8):\n",
        "  js = Javascript('''\n",
        "    async function takePhoto(quality) {\n",
        "      const div = document.createElement('div');\n",
        "      const capture = document.createElement('button');\n",
        "      capture.textContent = 'Capture';\n",
        "      div.appendChild(capture);\n",
        "\n",
        "      const video = document.createElement('video');\n",
        "      video.style.display = 'block';\n",
        "      const stream = await navigator.mediaDevices.getUserMedia({video: true});\n",
        "\n",
        "      document.body.appendChild(div);\n",
        "      div.appendChild(video);\n",
        "      video.srcObject = stream;\n",
        "      await video.play();\n",
        "\n",
        "      // Resize the output to fit the video element.\n",
        "      google.colab.output.setIframeHeight(document.documentElement.scrollHeight, true);\n",
        "\n",
        "      // Wait for Capture to be clicked.\n",
        "      await new Promise((resolve) => capture.onclick = resolve);\n",
        "\n",
        "      const canvas = document.createElement('canvas');\n",
        "      canvas.width = video.videoWidth;\n",
        "      canvas.height = video.videoHeight;\n",
        "      canvas.getContext('2d').drawImage(video, 0, 0);\n",
        "      stream.getVideoTracks()[0].stop();\n",
        "      div.remove();\n",
        "      return canvas.toDataURL('image/jpeg', quality);\n",
        "    }\n",
        "    ''')\n",
        "  display(js)\n",
        "  data = eval_js('takePhoto({})'.format(quality))\n",
        "  binary = b64decode(data.split(',')[1])\n",
        "  with open(filename, 'wb') as f:\n",
        "    f.write(binary)\n",
        "  return filename"
      ],
      "execution_count": null,
      "outputs": []
    },
    {
      "cell_type": "code",
      "metadata": {
        "id": "IwajjZGj539Q"
      },
      "source": [
        "from IPython.display import display, Javascript\n",
        "from google.colab.output import eval_js\n",
        "from base64 import b64decode\n",
        "\n",
        "def take_photo(filename='photo.jpg', quality=0.8):\n",
        "  js = Javascript('''\n",
        "    async function takePhoto(quality) {\n",
        "      const div = document.createElement('div');\n",
        "      const capture = document.createElement('button');\n",
        "      capture.textContent = 'Capture';\n",
        "      div.appendChild(capture);\n",
        "\n",
        "      const video = document.createElement('video');\n",
        "      video.style.display = 'block';\n",
        "      const stream = await navigator.mediaDevices.getUserMedia({video: true});\n",
        "\n",
        "      document.body.appendChild(div);\n",
        "      div.appendChild(video);\n",
        "      video.srcObject = stream;\n",
        "      await video.play();\n",
        "\n",
        "      // Resize the output to fit the video element.\n",
        "      google.colab.output.setIframeHeight(document.documentElement.scrollHeight, true);\n",
        "\n",
        "      // Wait for Capture to be clicked.\n",
        "      await new Promise((resolve) => capture.onclick = resolve);\n",
        "\n",
        "      const canvas = document.createElement('canvas');\n",
        "      canvas.width = video.videoWidth;\n",
        "      canvas.height = video.videoHeight;\n",
        "      canvas.getContext('2d').drawImage(video, 0, 0);\n",
        "      stream.getVideoTracks()[0].stop();\n",
        "      div.remove();\n",
        "      return canvas.toDataURL('image/jpeg', quality);\n",
        "    }\n",
        "    ''')\n",
        "  display(js)\n",
        "  data = eval_js('takePhoto({})'.format(quality))\n",
        "  binary = b64decode(data.split(',')[1])\n",
        "  with open(filename, 'wb') as f:\n",
        "    f.write(binary)\n",
        "  return filename"
      ],
      "execution_count": null,
      "outputs": []
    },
    {
      "cell_type": "code",
      "metadata": {
        "id": "QweGiTU-539R",
        "colab": {
          "base_uri": "https://localhost:8080/",
          "height": 514
        },
        "outputId": "5f94a3f3-1c37-49c5-c724-d30bca1305ce"
      },
      "source": [
        "from IPython.display import Image\n",
        "try:\n",
        "  filename = take_photo()\n",
        "  print('Saved to {}'.format(filename))\n",
        "  \n",
        "  # Show the image which was just taken.\n",
        "  display(Image(filename))\n",
        "except Exception as err:\n",
        "  # Errors will be thrown if the user does not have a webcam or if they do not\n",
        "  # grant the page permission to access it.\n",
        "  print(str(err))"
      ],
      "execution_count": null,
      "outputs": [
        {
          "output_type": "display_data",
          "data": {
            "application/javascript": [
              "\n",
              "    async function takePhoto(quality) {\n",
              "      const div = document.createElement('div');\n",
              "      const capture = document.createElement('button');\n",
              "      capture.textContent = 'Capture';\n",
              "      div.appendChild(capture);\n",
              "\n",
              "      const video = document.createElement('video');\n",
              "      video.style.display = 'block';\n",
              "      const stream = await navigator.mediaDevices.getUserMedia({video: true});\n",
              "\n",
              "      document.body.appendChild(div);\n",
              "      div.appendChild(video);\n",
              "      video.srcObject = stream;\n",
              "      await video.play();\n",
              "\n",
              "      // Resize the output to fit the video element.\n",
              "      google.colab.output.setIframeHeight(document.documentElement.scrollHeight, true);\n",
              "\n",
              "      // Wait for Capture to be clicked.\n",
              "      await new Promise((resolve) => capture.onclick = resolve);\n",
              "\n",
              "      const canvas = document.createElement('canvas');\n",
              "      canvas.width = video.videoWidth;\n",
              "      canvas.height = video.videoHeight;\n",
              "      canvas.getContext('2d').drawImage(video, 0, 0);\n",
              "      stream.getVideoTracks()[0].stop();\n",
              "      div.remove();\n",
              "      return canvas.toDataURL('image/jpeg', quality);\n",
              "    }\n",
              "    "
            ],
            "text/plain": [
              "<IPython.core.display.Javascript object>"
            ]
          },
          "metadata": {}
        },
        {
          "output_type": "stream",
          "name": "stdout",
          "text": [
            "Saved to photo.jpg\n"
          ]
        },
        {
          "output_type": "display_data",
          "data": {
            "image/jpeg": "[encoded data removed]",
            "text/plain": [
              "<IPython.core.display.Image object>"
            ]
          },
          "metadata": {}
        }
      ]
    },
    {
      "cell_type": "code",
      "metadata": {
        "id": "u6VIboo952f-"
      },
      "source": [
        "from IPython.display import Image\n",
        "try:\n",
        "  filename = take_photo()\n",
        "  print('Saved to {}'.format(filename))\n",
        "  \n",
        "  # Show the image which was just taken.\n",
        "  display(Image(filename))\n",
        "except Exception as err:\n",
        "  # Errors will be thrown if the user does not have a webcam or if they do not\n",
        "  # grant the page permission to access it.\n",
        "  print(str(err))"
      ],
      "execution_count": null,
      "outputs": []
    },
    {
      "cell_type": "code",
      "metadata": {
        "id": "hXsLvZfx1n5d"
      },
      "source": [
        "  img = ImageTk.PhotoImage(Image.open(\"logo.png\"))\n",
        "\n",
        "   heading = Label(root,image=img,bg='black')\n",
        "    heading.pack() "
      ],
      "execution_count": null,
      "outputs": []
    }
  ]
}